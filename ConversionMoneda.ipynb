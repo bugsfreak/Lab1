{
  "nbformat": 4,
  "nbformat_minor": 0,
  "metadata": {
    "colab": {
      "name": "ConversionMoneda.ipynb",
      "provenance": [],
      "collapsed_sections": [],
      "authorship_tag": "ABX9TyOA5bDylMOAz8NmPX7RmP5Y",
      "include_colab_link": true
    },
    "kernelspec": {
      "name": "python3",
      "display_name": "Python 3"
    },
    "language_info": {
      "name": "python"
    }
  },
  "cells": [
    {
      "cell_type": "markdown",
      "metadata": {
        "id": "view-in-github",
        "colab_type": "text"
      },
      "source": [
        "<a href=\"https://colab.research.google.com/github/bugsfreak/Lab1/blob/main/ConversionMoneda.ipynb\" target=\"_parent\"><img src=\"https://colab.research.google.com/assets/colab-badge.svg\" alt=\"Open In Colab\"/></a>"
      ]
    },
    {
      "cell_type": "code",
      "execution_count": null,
      "metadata": {
        "id": "pXgPPEhS8mnq"
      },
      "outputs": [],
      "source": [
        "### Conversión dólares a euros y yenes ###\n",
        "#Solicita ingreso de la cantidad en dólares\n",
        "dolares = float(input(\"Ingrese la cantidad en dólares\"))\n",
        "\n",
        "\"\"\"\n",
        "Nota: Estos datos están basados en el valor del mercado de la fecha\n",
        "17/05/2022. Por lo que estarán desactualizados para luego.\n",
        "\"\"\"\n",
        "\n",
        "#Se multiplica por el valor equivalente en euros\n",
        "euros = dolares * 0.95\n",
        "#Se multiplica por el valor equivalente en yenes\n",
        "yenes = dolares * 129.15\n",
        "\n",
        "#Retorna los resultados\n",
        "print(\"---Resultado---\")\n",
        "print(euros,' euros')\n",
        "print(yenes,' yenes')\n"
      ]
    }
  ]
}