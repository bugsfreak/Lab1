{
  "nbformat": 4,
  "nbformat_minor": 0,
  "metadata": {
    "colab": {
      "name": "PotenciacionXY .ipynb",
      "provenance": [],
      "authorship_tag": "ABX9TyMQHviFj5Oo98ZHL/xedvjG",
      "include_colab_link": true
    },
    "kernelspec": {
      "name": "python3",
      "display_name": "Python 3"
    },
    "language_info": {
      "name": "python"
    }
  },
  "cells": [
    {
      "cell_type": "markdown",
      "metadata": {
        "id": "view-in-github",
        "colab_type": "text"
      },
      "source": [
        "<a href=\"https://colab.research.google.com/github/bugsfreak/Lab1/blob/main/PotenciacionXY_.ipynb\" target=\"_parent\"><img src=\"https://colab.research.google.com/assets/colab-badge.svg\" alt=\"Open In Colab\"/></a>"
      ]
    },
    {
      "cell_type": "code",
      "execution_count": null,
      "metadata": {
        "id": "o9gP1KBxcoKv"
      },
      "outputs": [],
      "source": [
        "### Potenciación X^Y ###\n",
        "\n",
        "#Solicita al usuario la base (X)\n",
        "base = int(input(\"Ingrese el número de la base: \"))\n",
        "#Solicita al usuario el exponente (Y)\n",
        "potencia = int(input(\"Ingrese el exponente: \"))\n",
        "#Se inicializa el resultado para poder usarlo como acumulador\n",
        "resultado = 1\n",
        "\n",
        "#Se define el for para que vaya desde 0 hasta la cantidad de potencia-1 \n",
        "for i in range (0,potencia):\n",
        "  resultado = base * resultado\n",
        "\n",
        "#Imprime el resultado\n",
        "print(resultado)"
      ]
    }
  ]
}