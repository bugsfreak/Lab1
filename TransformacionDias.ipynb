{
  "nbformat": 4,
  "nbformat_minor": 0,
  "metadata": {
    "colab": {
      "name": "TransformacionDias.ipynb",
      "provenance": [],
      "collapsed_sections": [],
      "authorship_tag": "ABX9TyPhyV2spuBJnADEI0A7/oEr",
      "include_colab_link": true
    },
    "kernelspec": {
      "name": "python3",
      "display_name": "Python 3"
    },
    "language_info": {
      "name": "python"
    }
  },
  "cells": [
    {
      "cell_type": "markdown",
      "metadata": {
        "id": "view-in-github",
        "colab_type": "text"
      },
      "source": [
        "<a href=\"https://colab.research.google.com/github/bugsfreak/Lab1/blob/main/TransformacionDias.ipynb\" target=\"_parent\"><img src=\"https://colab.research.google.com/assets/colab-badge.svg\" alt=\"Open In Colab\"/></a>"
      ]
    },
    {
      "cell_type": "code",
      "execution_count": null,
      "metadata": {
        "id": "VeFj3otnx1vk"
      },
      "outputs": [],
      "source": [
        "### CONVERSIÓN DIAS EN AÑOS, MESES Y SEMANAS ###\n",
        "\n",
        "#Se pide al usuario la cantidad de días\n",
        "\n",
        "dias = int(input(\"Ingrese el número de dias : \"))\n",
        "\n",
        "\n",
        "#La semana consta de 7 días por lo que se dividen los días entre 7\n",
        "semanas = dias/7\n",
        "\n",
        "#Un mes tiene 30.412 dias aproximadamente\n",
        "meses = dias/30.412\n",
        "\n",
        "#Un año consta de 365 días\n",
        "anios = dias/365\n",
        "\n",
        "#Retorna los valores antes calculados\n",
        "print(\"La transformación es:\")\n",
        "print(semanas,' semanas')\n",
        "print(meses,' meses')\n",
        "print(anios,' años')"
      ]
    }
  ]
}