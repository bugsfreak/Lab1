{
  "nbformat": 4,
  "nbformat_minor": 0,
  "metadata": {
    "colab": {
      "name": "ConversionCentimetros.ipynb",
      "provenance": [],
      "authorship_tag": "ABX9TyNFV+C16laFLAXHQfllFNKJ",
      "include_colab_link": true
    },
    "kernelspec": {
      "name": "python3",
      "display_name": "Python 3"
    },
    "language_info": {
      "name": "python"
    }
  },
  "cells": [
    {
      "cell_type": "markdown",
      "metadata": {
        "id": "view-in-github",
        "colab_type": "text"
      },
      "source": [
        "<a href=\"https://colab.research.google.com/github/bugsfreak/Lab1/blob/main/ConversionCentimetros.ipynb\" target=\"_parent\"><img src=\"https://colab.research.google.com/assets/colab-badge.svg\" alt=\"Open In Colab\"/></a>"
      ]
    },
    {
      "cell_type": "code",
      "execution_count": null,
      "metadata": {
        "id": "jwZaTOjhkDjQ"
      },
      "outputs": [],
      "source": [
        "### CONVERSIÓN DE CENTIMETROS A METROS Y KILÓMETROS ###\n",
        "\n",
        "#Se solicita al usuario el ingreso de los centímetros\n",
        "centimetros = float(input(\"Ingrese el valor en centimetros: \"))\n",
        "\n",
        "#Se calcula los metros, 100 centimetros equivale a 1 metro\n",
        "metros = centimetros/100\n",
        "\n",
        "#Para el calculo de kilometros, se calcula desde los metros. 1000 metros es 1 kilometro\n",
        "kilometros = metros/1000\n",
        "\n",
        "#Se retorna los resultados de metros y kilómetros\n",
        "print(metros,' metros')\n",
        "print(kilometros,' kilometros')"
      ]
    }
  ]
}