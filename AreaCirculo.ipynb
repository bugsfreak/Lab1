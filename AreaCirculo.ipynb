{
  "nbformat": 4,
  "nbformat_minor": 0,
  "metadata": {
    "colab": {
      "name": "AreaCirculo.ipynb",
      "provenance": [],
      "collapsed_sections": [],
      "authorship_tag": "ABX9TyOFmPvhBiZwiIhyc0RCaLM2",
      "include_colab_link": true
    },
    "kernelspec": {
      "name": "python3",
      "display_name": "Python 3"
    },
    "language_info": {
      "name": "python"
    }
  },
  "cells": [
    {
      "cell_type": "markdown",
      "metadata": {
        "id": "view-in-github",
        "colab_type": "text"
      },
      "source": [
        "<a href=\"https://colab.research.google.com/github/bugsfreak/Lab1/blob/main/AreaCirculo.ipynb\" target=\"_parent\"><img src=\"https://colab.research.google.com/assets/colab-badge.svg\" alt=\"Open In Colab\"/></a>"
      ]
    },
    {
      "cell_type": "code",
      "execution_count": 1,
      "metadata": {
        "colab": {
          "base_uri": "https://localhost:8080/"
        },
        "id": "pKleqCH8tZ6r",
        "outputId": "a8df313a-854f-4a7b-c5ee-4eab5d8c7f44"
      },
      "outputs": [
        {
          "output_type": "stream",
          "name": "stdout",
          "text": [
            "Ingrese el radio del circulo6\n",
            "113.14285714285714\n"
          ]
        }
      ],
      "source": [
        "### AREA DE UN CIRCULO ###\n",
        "# Se inicializa pi \n",
        "pi = 22/7\n",
        "\n",
        "#Se pide al usuario el valor del radio\n",
        "radio = input(\"Ingrese el radio del circulo: \")\n",
        "\n",
        "#Se transforma el input a float para el cáculo\n",
        "radio = float(radio)\n",
        "\n",
        "\"\"\"\n",
        "Cálculo del área de un círculo\n",
        "Se efectua la operación basado en la fórmula pi * radio^2\n",
        "\n",
        "Args\n",
        "pi, radio\n",
        "\n",
        "Returns\n",
        "resultado\n",
        "\"\"\"\n",
        "resultado = pi * (radio * radio)\n",
        "print(resultado)\n"
      ]
    }
  ]
}